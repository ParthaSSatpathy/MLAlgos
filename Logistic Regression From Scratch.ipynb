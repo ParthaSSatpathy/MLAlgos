{
 "cells": [
  {
   "cell_type": "code",
   "execution_count": 2,
   "metadata": {
    "collapsed": false
   },
   "outputs": [],
   "source": [
    "from subprocess import check_output\n",
    "import numpy as np # linear algebra\n",
    "import pandas as pd # data processing, CSV file I/O (e.g. pd.read_csv)\n",
    "import warnings \n",
    "warnings.filterwarnings('ignore')\n",
    "from math import ceil\n",
    "#Plots\n",
    "import matplotlib.pyplot as plt\n",
    "import seaborn as sb\n",
    "from sklearn.metrics import confusion_matrix #Confusion matrix\n",
    "from sklearn.metrics import accuracy_score  \n",
    "from sklearn.model_selection import train_test_split\n",
    "from pandas.tools.plotting import parallel_coordinates\n",
    "#Advanced optimization\n",
    "from scipy import optimize as op"
   ]
  },
  {
   "cell_type": "code",
   "execution_count": 8,
   "metadata": {
    "collapsed": false
   },
   "outputs": [
    {
     "data": {
      "text/html": [
       "<div>\n",
       "<table border=\"1\" class=\"dataframe\">\n",
       "  <thead>\n",
       "    <tr style=\"text-align: right;\">\n",
       "      <th></th>\n",
       "      <th>Id</th>\n",
       "      <th>SepalLength</th>\n",
       "      <th>SepalWidth</th>\n",
       "      <th>PetalLength</th>\n",
       "      <th>PetalWidth</th>\n",
       "      <th>Species</th>\n",
       "    </tr>\n",
       "  </thead>\n",
       "  <tbody>\n",
       "    <tr>\n",
       "      <th>0</th>\n",
       "      <td>1</td>\n",
       "      <td>5.1</td>\n",
       "      <td>3.5</td>\n",
       "      <td>1.4</td>\n",
       "      <td>0.2</td>\n",
       "      <td>setosa</td>\n",
       "    </tr>\n",
       "    <tr>\n",
       "      <th>1</th>\n",
       "      <td>2</td>\n",
       "      <td>4.9</td>\n",
       "      <td>3.0</td>\n",
       "      <td>1.4</td>\n",
       "      <td>0.2</td>\n",
       "      <td>setosa</td>\n",
       "    </tr>\n",
       "    <tr>\n",
       "      <th>2</th>\n",
       "      <td>3</td>\n",
       "      <td>4.7</td>\n",
       "      <td>3.2</td>\n",
       "      <td>1.3</td>\n",
       "      <td>0.2</td>\n",
       "      <td>setosa</td>\n",
       "    </tr>\n",
       "    <tr>\n",
       "      <th>3</th>\n",
       "      <td>4</td>\n",
       "      <td>4.6</td>\n",
       "      <td>3.1</td>\n",
       "      <td>1.5</td>\n",
       "      <td>0.2</td>\n",
       "      <td>setosa</td>\n",
       "    </tr>\n",
       "    <tr>\n",
       "      <th>4</th>\n",
       "      <td>5</td>\n",
       "      <td>5.0</td>\n",
       "      <td>3.6</td>\n",
       "      <td>1.4</td>\n",
       "      <td>0.2</td>\n",
       "      <td>setosa</td>\n",
       "    </tr>\n",
       "  </tbody>\n",
       "</table>\n",
       "</div>"
      ],
      "text/plain": [
       "   Id  SepalLength  SepalWidth  PetalLength  PetalWidth Species\n",
       "0   1          5.1         3.5          1.4         0.2  setosa\n",
       "1   2          4.9         3.0          1.4         0.2  setosa\n",
       "2   3          4.7         3.2          1.3         0.2  setosa\n",
       "3   4          4.6         3.1          1.5         0.2  setosa\n",
       "4   5          5.0         3.6          1.4         0.2  setosa"
      ]
     },
     "execution_count": 8,
     "metadata": {},
     "output_type": "execute_result"
    }
   ],
   "source": [
    "path = 'C:/Users/parth/Desktop/Udemy/ML/Algo Implementation From Scratch/'\n",
    "iris = pd.read_csv(path+'IRIS.csv')\n",
    "iris.head()"
   ]
  },
  {
   "cell_type": "code",
   "execution_count": 12,
   "metadata": {
    "collapsed": false
   },
   "outputs": [
    {
     "data": {
      "image/png": "[encoded data removed]",
      "text/plain": [
       "<matplotlib.figure.Figure at 0x22f7b660198>"
      ]
     },
     "metadata": {},
     "output_type": "display_data"
    }
   ],
   "source": [
    "%matplotlib inline\n",
    "sepalPit = sb.FacetGrid(iris,hue='Species',size=6).map(plt.scatter,\"SepalLength\",\"SepalWidth\")\n",
    "plt.legend(loc=\"upper left\")\n",
    "plt.show()"
   ]
  },
  {
   "cell_type": "code",
   "execution_count": 17,
   "metadata": {
    "collapsed": false
   },
   "outputs": [
    {
     "data": {
      "image/png": "[encoded data removed]",
      "text/plain": [
       "<matplotlib.figure.Figure at 0x22f7ae64940>"
      ]
     },
     "metadata": {},
     "output_type": "display_data"
    }
   ],
   "source": [
    "petalPlot = sb.FacetGrid(iris,hue=\"Species\",size=6).map(plt.scatter,\"PetalLength\",\"PetalWidth\")\n",
    "plt.legend(loc=\"upper left\")\n",
    "plt.show()"
   ]
  },
  {
   "cell_type": "code",
   "execution_count": 42,
   "metadata": {
    "collapsed": false
   },
   "outputs": [],
   "source": [
    "Species = ['setosa','versicolor','virginica']\n",
    "m = iris.shape[0]\n",
    "n = 4\n",
    "X = np.ones((m,n+1)).astype(float)\n",
    "y = np.array((m,1))\n",
    "\n",
    "X[:,1] = iris['PetalLength'].values\n",
    "X[:,2] = iris['PetalWidth'].values\n",
    "X[:,3] = iris['SepalLength'].values\n",
    "X[:,4] = iris['SepalWidth'].values\n",
    "\n",
    "y = iris['Species'].values\n",
    "\n",
    "#Normalization\n",
    "from sklearn.preprocessing import StandardScaler\n",
    "sc = StandardScaler()\n",
    "X = sc.fit_transform(X)\n",
    "\n",
    "X_train, X_test, y_train,y_test = train_test_split(X,y,train_size=0.7,random_state=25)"
   ]
  },
  {
   "cell_type": "code",
   "execution_count": 48,
   "metadata": {
    "collapsed": false
   },
   "outputs": [],
   "source": [
    "def sigmoid(z):\n",
    "    return 1.0/(1+np.exp(-z))"
   ]
  },
  {
   "cell_type": "code",
   "execution_count": 65,
   "metadata": {
    "collapsed": true
   },
   "outputs": [],
   "source": [
    "def regCostFunction(theta,X,Y,_lambda=0.1):\n",
    "    m = len(Y)\n",
    "    #print(\"X shape in regCost\",X.shape)\n",
    "    h = sigmoid(X.dot(theta)) \n",
    "    # X is mx5 and theta is 5x1. Also Y is mx1. So we have to multiply Y transpose to X x theta \n",
    "    \n",
    "    tmp = np.copy(theta)\n",
    "    tmp[0] = 0\n",
    "    reg = (_lambda/(2*m)) * np.sum(tmp**2)\n",
    "        \n",
    "    return (-1/m) * ((Y.T.dot(np.log(h))) + (1-Y).T.dot(np.log(1-h))) + reg"
   ]
  },
  {
   "cell_type": "code",
   "execution_count": 66,
   "metadata": {
    "collapsed": true
   },
   "outputs": [],
   "source": [
    "def gradient(theta,X,Y,_lambda=0.1):\n",
    "    #m = len(Y)\n",
    "    m, n = X.shape\n",
    "    theta = theta.reshape((n, 1))\n",
    "    Y = Y.reshape((m, 1))\n",
    "    z = X.dot(theta)\n",
    "    \n",
    "    tmp = np.copy(theta)\n",
    "    tmp[0] = 0\n",
    "    reg = (_lambda/m)*tmp\n",
    "    \n",
    "    grad = ((1/m) * X.T.dot((sigmoid(z) - Y))) + reg\n",
    "    \n",
    "    return grad"
   ]
  },
  {
   "cell_type": "code",
   "execution_count": 162,
   "metadata": {
    "collapsed": true
   },
   "outputs": [],
   "source": [
    "\n",
    "def logisticRegression(X,Y,theta,alpha=0.001):\n",
    "    for i in range(10000):\n",
    "        theta = theta - alpha * gradient(theta,X,Y)\n",
    "    theta = [item for sublist in theta for item in sublist]\n",
    "    return theta\n"
   ]
  },
  {
   "cell_type": "code",
   "execution_count": 135,
   "metadata": {
    "collapsed": false
   },
   "outputs": [],
   "source": [
    "'''\n",
    "def logisticRegression(X,Y,theta):\n",
    "    result = op.minimize(fun = regCostFunction,x0 = theta,args = (X,Y),method='TNC',jac = gradient)\n",
    "    #print(result)\n",
    "    return result.x\n",
    "'''"
   ]
  },
  {
   "cell_type": "code",
   "execution_count": 102,
   "metadata": {
    "collapsed": false
   },
   "outputs": [],
   "source": [
    "# Training\n",
    "\n",
    "theta_mat = np.zeros((3,n+1))\n",
    "\n",
    "for i,flower in enumerate(Species):\n",
    "    temp_y = np.array(y_train == flower,dtype = int)\n",
    "    optTheta = logisticRegression(X_train,temp_y,np.zeros((n+1,1)),0.0001)\n",
    "    #print(optTheta.shape)\n",
    "    theta_mat[i] = optTheta\n"
   ]
  },
  {
   "cell_type": "code",
   "execution_count": 103,
   "metadata": {
    "collapsed": false
   },
   "outputs": [
    {
     "data": {
      "text/plain": [
       "array([[ 0.        , -0.31699418, -0.29246987, -0.2525802 ,  0.22330463],\n",
       "       [ 0.        ,  0.07207857,  0.0513161 ,  0.00204243, -0.22200534],\n",
       "       [ 0.        ,  0.25299842,  0.26395781,  0.21475795, -0.03563175]])"
      ]
     },
     "execution_count": 103,
     "metadata": {},
     "output_type": "execute_result"
    }
   ],
   "source": [
    "theta_mat"
   ]
  },
  {
   "cell_type": "code",
   "execution_count": 104,
   "metadata": {
    "collapsed": false
   },
   "outputs": [
    {
     "data": {
      "text/plain": [
       "array([[ 0.48875747,  0.54644929,  0.48035154],\n",
       "       [ 0.77592405,  0.43904481,  0.26895647],\n",
       "       [ 0.42756024,  0.49165784,  0.57543726],\n",
       "       [ 0.36006632,  0.56236763,  0.59026017],\n",
       "       [ 0.25191116,  0.59778138,  0.67449845],\n",
       "       [ 0.79739716,  0.41386394,  0.26224668],\n",
       "       [ 0.40228481,  0.51441365,  0.57955481],\n",
       "       [ 0.33022773,  0.56395163,  0.61853228],\n",
       "       [ 0.37110887,  0.55443426,  0.59144197],\n",
       "       [ 0.27521171,  0.56531417,  0.67751938],\n",
       "       [ 0.7879143 ,  0.40023102,  0.27847313],\n",
       "       [ 0.46407083,  0.54337512,  0.50035243],\n",
       "       [ 0.32082867,  0.51360347,  0.66877661],\n",
       "       [ 0.42958793,  0.58230682,  0.51356041],\n",
       "       [ 0.29462599,  0.51141201,  0.69849976],\n",
       "       [ 0.2860045 ,  0.51253744,  0.69551971],\n",
       "       [ 0.28854467,  0.53239166,  0.67758667],\n",
       "       [ 0.47659059,  0.57531638,  0.46272052],\n",
       "       [ 0.34277896,  0.5257291 ,  0.6314269 ],\n",
       "       [ 0.50788804,  0.51666018,  0.48189945],\n",
       "       [ 0.31429197,  0.56337415,  0.64362696],\n",
       "       [ 0.74097056,  0.46436484,  0.2874045 ],\n",
       "       [ 0.77987103,  0.40126298,  0.28646708],\n",
       "       [ 0.80013564,  0.45718876,  0.23304038],\n",
       "       [ 0.46321825,  0.56662119,  0.48293734],\n",
       "       [ 0.78882161,  0.3803299 ,  0.29256888],\n",
       "       [ 0.33380776,  0.58370486,  0.59697481],\n",
       "       [ 0.29993712,  0.5696939 ,  0.64590187],\n",
       "       [ 0.77920316,  0.41722751,  0.2792282 ],\n",
       "       [ 0.34658785,  0.5673505 ,  0.6038141 ]])"
      ]
     },
     "execution_count": 104,
     "metadata": {},
     "output_type": "execute_result"
    }
   ],
   "source": [
    "P = sigmoid(X_test.dot(theta_mat.T))\n",
    "P"
   ]
  },
  {
   "cell_type": "code",
   "execution_count": 107,
   "metadata": {
    "collapsed": false
   },
   "outputs": [
    {
     "name": "stdout",
     "output_type": "stream",
     "text": [
      "['versicolor', 'setosa', 'virginica', 'virginica', 'virginica', 'setosa', 'virginica', 'virginica', 'virginica', 'virginica', 'setosa', 'versicolor', 'virginica', 'versicolor', 'virginica', 'virginica', 'virginica', 'versicolor', 'virginica', 'versicolor', 'virginica', 'setosa', 'setosa', 'setosa', 'versicolor', 'setosa', 'virginica', 'virginica', 'setosa', 'virginica']\n"
     ]
    }
   ],
   "source": [
    "y_pred = [Species[np.argmax(P[i,:])] for i in range(X_test.shape[0])]\n",
    "print(y_pred)"
   ]
  },
  {
   "cell_type": "code",
   "execution_count": 106,
   "metadata": {
    "collapsed": false
   },
   "outputs": [
    {
     "data": {
      "image/png": "[encoded data removed]",
      "text/plain": [
       "<matplotlib.figure.Figure at 0x22f7acca2e8>"
      ]
     },
     "metadata": {},
     "output_type": "display_data"
    }
   ],
   "source": [
    "cfm = confusion_matrix(y_test,y_pred,labels = Species)\n",
    "sb.heatmap(cfm, annot = True, xticklabels = Species, yticklabels = Species)\n",
    "plt.show()"
   ]
  },
  {
   "cell_type": "code",
   "execution_count": null,
   "metadata": {
    "collapsed": true
   },
   "outputs": [],
   "source": []
  },
  {
   "cell_type": "markdown",
   "metadata": {},
   "source": [
    "# Experimentation"
   ]
  },
  {
   "cell_type": "code",
   "execution_count": 156,
   "metadata": {
    "collapsed": false
   },
   "outputs": [],
   "source": [
    "Species = ['setosa','versicolor'] #,'virginica']\n",
    "iris2 = iris.ix[iris['Species'] != 'virginica']\n",
    "m = iris2.shape[0]\n",
    "n = 2\n",
    "X = np.ones((m,n+1)).astype(float)\n",
    "y = np.array((m,1))\n",
    "\n",
    "X[:,1] = iris2['PetalLength'].values\n",
    "X[:,2] = iris2['PetalWidth'].values\n",
    "\n",
    "y = iris2['Species'].values\n",
    "\n",
    "#Normalization\n",
    "#from sklearn.preprocessing import StandardScaler\n",
    "#sc = StandardScaler()\n",
    "#X = sc.fit_transform(X)\n",
    "\n",
    "X_train, X_test, y_train,y_test = train_test_split(X,y,train_size=0.8,random_state=25)"
   ]
  },
  {
   "cell_type": "code",
   "execution_count": 157,
   "metadata": {
    "collapsed": false
   },
   "outputs": [
    {
     "data": {
      "text/plain": [
       "array([[ 1. ,  1.4,  0.2],\n",
       "       [ 1. ,  1.4,  0.2],\n",
       "       [ 1. ,  1.3,  0.2],\n",
       "       [ 1. ,  1.5,  0.2],\n",
       "       [ 1. ,  1.4,  0.2],\n",
       "       [ 1. ,  1.7,  0.4],\n",
       "       [ 1. ,  1.4,  0.3],\n",
       "       [ 1. ,  1.5,  0.2],\n",
       "       [ 1. ,  1.4,  0.2],\n",
       "       [ 1. ,  1.5,  0.1]])"
      ]
     },
     "execution_count": 157,
     "metadata": {},
     "output_type": "execute_result"
    }
   ],
   "source": [
    "X[:10,:]"
   ]
  },
  {
   "cell_type": "code",
   "execution_count": 163,
   "metadata": {
    "collapsed": false
   },
   "outputs": [
    {
     "name": "stdout",
     "output_type": "stream",
     "text": [
      "[[ 0.09548769]\n",
      " [ 0.74389334]\n",
      " [ 0.27189067]]\n",
      "[[ 0.56615318]\n",
      " [ 0.80027745]\n",
      " [ 0.9773081 ]]\n"
     ]
    },
    {
     "data": {
      "text/plain": [
       "array([[ 1.32130197, -0.54679947, -0.56456614],\n",
       "       [-1.1793534 ,  0.30607858,  1.2618361 ]])"
      ]
     },
     "execution_count": 163,
     "metadata": {},
     "output_type": "execute_result"
    }
   ],
   "source": [
    "theta_mat = np.zeros((2,n+1))\n",
    "\n",
    "for i,flower in enumerate(Species):\n",
    "    temp_y = np.array(y_train == flower,dtype = int)\n",
    "    theta_init = np.random.random((n+1,1))\n",
    "    print(theta_init)\n",
    "    optTheta = logisticRegression(X_train,temp_y,theta_init)\n",
    "    #print(optTheta.shape)\n",
    "    theta_mat[i] = optTheta\n",
    "    \n",
    "theta_mat"
   ]
  },
  {
   "cell_type": "code",
   "execution_count": 164,
   "metadata": {
    "collapsed": false
   },
   "outputs": [
    {
     "data": {
      "image/png": "[encoded data removed]",
      "text/plain": [
       "<matplotlib.figure.Figure at 0x22f7b14cb00>"
      ]
     },
     "metadata": {},
     "output_type": "display_data"
    }
   ],
   "source": [
    "x = [0,1,2,3,4,5,6,7]\n",
    "y = [0,.5,1.0,1.5,2,2.5,3,3.5]\n",
    "slope = theta_mat[0,1] / theta_mat[0,2]\n",
    "intercept = theta_mat[0,0] / theta_mat[0,2]\n",
    "setosaLine = [slope * i + intercept for i in x]\n",
    "#versiLine = [-theta_mat[1,1]*i/theta_mat[1,2] for i in x]\n",
    "\n",
    "petalPlot = sb.FacetGrid(iris2,hue=\"Species\",size=6)\n",
    "petalPlot = petalPlot.map(plt.scatter,\"PetalLength\",\"PetalWidth\")\n",
    "#petalPlot = petalPlot.map_dataframe(plt.plot, [-20,120], [0,0], 'r-').add_legend().set_axis_labels(\"x\", \"y\")\n",
    "#plt.plot(np.linspace(2,5,1000), [0]*1000, 'r')\n",
    "plt.plot(x, setosaLine, 'b')\n",
    "#plt.plot(x,versiLine,'r')\n",
    "plt.legend(loc=\"upper left\")\n",
    "plt.show()"
   ]
  },
  {
   "cell_type": "code",
   "execution_count": 140,
   "metadata": {
    "collapsed": false
   },
   "outputs": [
    {
     "data": {
      "image/png": "[encoded data removed]",
      "text/plain": [
       "<matplotlib.figure.Figure at 0x22f7b3ed2b0>"
      ]
     },
     "metadata": {},
     "output_type": "display_data"
    }
   ],
   "source": [
    "P = sigmoid(X_test.dot(theta_mat.T))\n",
    "y_pred = [Species[np.argmax(P[i,:])] for i in range(X_test.shape[0])]\n",
    "cfm = confusion_matrix(y_test,y_pred,labels = Species)\n",
    "sb.heatmap(cfm, annot = True, xticklabels = Species, yticklabels = Species)\n",
    "plt.show()"
   ]
  },
  {
   "cell_type": "code",
   "execution_count": 141,
   "metadata": {
    "collapsed": false
   },
   "outputs": [
    {
     "data": {
      "image/png": "[encoded data removed]",
      "text/plain": [
       "<matplotlib.figure.Figure at 0x22f7b404358>"
      ]
     },
     "metadata": {},
     "output_type": "display_data"
    }
   ],
   "source": [
    "plt.plot(P)\n",
    "plt.show()"
   ]
  },
  {
   "cell_type": "code",
   "execution_count": 149,
   "metadata": {
    "collapsed": false
   },
   "outputs": [
    {
     "data": {
      "text/plain": [
       "array([[ 0.48135403,  0.888588  ],\n",
       "       [ 0.71014357,  0.25674617],\n",
       "       [ 0.61427349,  0.41127555]])"
      ]
     },
     "execution_count": 149,
     "metadata": {},
     "output_type": "execute_result"
    }
   ],
   "source": [
    "np.random.random((3,2))"
   ]
  },
  {
   "cell_type": "code",
   "execution_count": null,
   "metadata": {
    "collapsed": true
   },
   "outputs": [],
   "source": []
  }
 ],
 "metadata": {
  "kernelspec": {
   "display_name": "Python [Root]",
   "language": "python",
   "name": "Python [Root]"
  },
  "language_info": {
   "codemirror_mode": {
    "name": "ipython",
    "version": 3
   },
   "file_extension": ".py",
   "mimetype": "text/x-python",
   "name": "python",
   "nbconvert_exporter": "python",
   "pygments_lexer": "ipython3",
   "version": "3.5.2"
  }
 },
 "nbformat": 4,
 "nbformat_minor": 2
}
